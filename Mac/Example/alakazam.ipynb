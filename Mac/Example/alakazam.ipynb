{
 "cells": [
  {
   "cell_type": "code",
   "execution_count": 2,
   "metadata": {
    "vscode": {
     "languageId": "python"
    }
   },
   "outputs": [],
   "source": [
    "from itertools import combinations_with_replacement"
   ]
  },
  {
   "cell_type": "code",
   "execution_count": 3,
   "metadata": {
    "vscode": {
     "languageId": "python"
    }
   },
   "outputs": [],
   "source": [
    "C=[\"D\",\"H\",\"K\",\"J\",\"Y\",\"D\",\"Z\",\"K\",\"U\",\"V\"]\n",
    "B=[\"G\",\"P\"]\n",
    "A=[\"Q\",\"W\",\"F\",\"E\",\"R\"]\n",
    "c=[\"_{d e}\",\"_{f g}\",\"_{h j}\"]\n",
    "b=[\"_{a}\",\"_{b}\",\"_{c}\"]\n",
    "a=[\"_{\\\\alpha}\",\"_{\\\\beta}\",\"_{\\\\gamma}\"]\n",
    "O=C+B+A"
   ]
  },
  {
   "cell_type": "code",
   "execution_count": null,
   "metadata": {
    "vscode": {
     "languageId": "python"
    }
   },
   "outputs": [
    {
     "ename": "",
     "evalue": "",
     "output_type": "error",
     "traceback": [
      "\u001b[1;31mFailed to start the Kernel. \n",
      "\u001b[1;31mView Jupyter <a href='command:jupyter.viewOutput'>log</a> for further details."
     ]
    }
   ],
   "source": [
    "algebra_out=open(\"Supersch.txt\",\"w\")\n",
    "algebra_out.write(\"Algebra:={ \\n\")\n",
    "for p,q in combinations_with_replacement(O,2):\n",
    "    #[B,B] part\n",
    "    if (p==\"J\" and q==\"Q\")or (q==\"J\" and p==\"Q\"):\n",
    "        algebra_out.write(\"\\commutator{J}{P_{a}} -> -\\epsilon_{a b} P_{b},\\n\"\n",
    "                            \"\\commutator{P_{a}}{J}-> -\\commutator{J}{P_{a}},\\n\")\n",
    "    elif (p==\"J\" and q==\"G\")or (q==\"J\" and p==\"G\"):\n",
    "        algebra_out.write(\"\\commutator{J}{G_{a}} -> -\\epsilon_{a b} G_{b},\\n\"\n",
    "                            \"\\commutator{G_{a}}{J}-> -\\commutator{J}{G_{a}},\\n\")\n",
    "    elif (p==\"G\" and q==\"P\")or (q==\"G\" and p==\"P\"):\n",
    "        algebra_out.write(\"\\commutator{G_{a}}{P_{b}} -> \\epsilon_{a b} M - \\delta_{a b} Y,\\n\"\n",
    "                            \"\\commutator{P_{b}}{G_{a}}->-\\commutator{G_{a}}{P_{b}},\\n\")\n",
    "    elif (p==\"H\" and q==\"G\")or (q==\"H\" and p==\"G\"):\n",
    "        algebra_out.write(\"\\commutator{H}{G_{a}} -> -\\epsilon_{a b} P_{b},\\n\"\n",
    "                            \"\\commutator{G_{a}}{H}-> -\\commutator{H}{G_{a}},\\n\")\n",
    "    elif (p==\"G\" and q==\"G\")or (q==\"G\" and p==\"G\"):\n",
    "        algebra_out.write(\"\\commutator{G_{a}}{G_{b}} -> \\epsilon_{a b} S,\\n\")\n",
    "    elif (p==\"P\" and q==\"P\")or (q==\"P\" and p==\"P\"):\n",
    "        algebra_out.write(\"\\commutator{P_{a}}{P_{b}} -> \\epsilon_{a b} Z,\\n\")\n",
    "    elif (p==\"D\" and q==\"G\")or (q==\"D\" and p==\"G\"):\n",
    "        algebra_out.write(\"\\commutator{D}{G_{a}} -> G_{a},\\n\"\n",
    "                            \"\\commutator{G_{a}}{D}-> -\\commutator{D}{G_{a}},\\n\")\n",
    "    elif (p==\"D\" and q==\"P\")or (q==\"D\" and p==\"P\"):\n",
    "        algebra_out.write(\"\\commutator{D}{P_{a}} -> -P_{a},\\n\"\n",
    "                            \"\\commutator{P_{a}}{D}-> -\\commutator{D}{P_{a}},\\n\")\n",
    "    elif (p==\"D\" and q==\"H\")or (q==\"D\" and p==\"H\"):\n",
    "        algebra_out.write(\"\\commutator{D}{H} -> -2 H,\\n\"\n",
    "                            \"\\commutator{H}{D}-> -\\commutator{D}{H},\\n\")\n",
    "    elif (p==\"D\" and q==\"S\")or (q==\"D\" and p==\"S\"):\n",
    "        algebra_out.write(\"\\commutator{D}{S} -> 2 S,\\n\"\n",
    "                            \"\\commutator{S}{D}-> -\\commutator{D}{S},\\n\")\n",
    "    elif (p==\"D\" and q==\"K\")or (q==\"D\" and p==\"K\"):\n",
    "        algebra_out.write(\"\\commutator{D}{K} -> 2 K,\\n\"\n",
    "                            \"\\commutator{K}{D}-> -\\commutator{D}{K},\\n\")\n",
    "    elif (p==\"D\" and q==\"Z\")or (q==\"D\" and p==\"Z\"):\n",
    "        algebra_out.write(\"\\commutator{D}{Z} -> -2 Z,\\n\"\n",
    "                            \"\\commutator{Z}{D}-> -\\commutator{D}{Z},\\n\")\n",
    "    elif (p==\"K\" and q==\"P\")or (q==\"K\" and p==\"P\"):\n",
    "        algebra_out.write(\"\\commutator{K}{P_{a}} -> -\\epsilon_{a b} G_{b},\\n\"\n",
    "                            \"\\commutator{P_{a}}{K}-> -\\commutator{K}{P_{a}},\\n\") \n",
    "    elif (p==\"H\" and q==\"K\")or (q==\"H\" and p==\"K\"):\n",
    "        algebra_out.write(\"\\commutator{K}{H} -> - D,\\n\"\n",
    "                            \"\\commutator{H}{K}-> -\\commutator{K}{H},\\n\")\n",
    "    elif (p==\"Y\" and q==\"K\")or (q==\"Y\" and p==\"K\"):\n",
    "        algebra_out.write(\"\\commutator{K}{Y} -> S,\\n\"\n",
    "                            \"\\commutator{Y}{K}-> -\\commutator{K}{Y},\\n\")\n",
    "    elif (p==\"Z\" and q==\"K\")or (q==\"Z\" and p==\"K\"):\n",
    "        algebra_out.write(\"\\commutator{K}{Z} -> 2 Y,\\n\"\n",
    "                            \"\\commutator{Z}{K}-> -\\commutator{K}{Z},\\n\")  \n",
    "    elif (p==\"H\" and q==\"S\")or (q==\"H\" and p==\"S\"):\n",
    "        algebra_out.write(\"\\commutator{H}{S} -> - 2 Y,\\n\"\n",
    "                            \"\\commutator{S}{H}-> -\\commutator{H}{S},\\n\")\n",
    "    elif (p==\"H\" and q==\"Y\")or (q==\"H\" and p==\"Y\"):\n",
    "        algebra_out.write(\"\\commutator{H}{Y} -> - Z,\\n\"\n",
    "                            \"\\commutator{Y}{H}-> -\\commutator{H}{Y},\\n\")                                    \n",
    "\n",
    "    #[B,F] part\n",
    "    elif (p==\"J\" and q==\"Q\")or (q==\"J\" and p==\"Q\"):\n",
    "        algebra_out.write(\"\\commutator{J}{Q_{\\\\alpha}} -> -1/2 \\Gamma_{0 \\\\alpha}^{\\\\beta} Q_{\\\\beta} ,\\n\"\n",
    "                    \"\\commutator{Q_{\\\\alpha}}{J}-> -\\commutator{J}{Q_{\\\\alpha}} ,\\n\")\n",
    "    elif (p==\"J\" and q==\"W\")or (q==\"J\" and p==\"W\"):\n",
    "        algebra_out.write(\"\\commutator{J}{W_{\\\\alpha}} -> -1/2 \\Gamma_{0 \\\\alpha}^{\\\\beta} W_{\\\\beta} ,\\n\"                    \"\\commutator{W_{\\\\alpha}}{J}-> -\\commutator{J}{W_{\\\\alpha}} ,\\n\")\n",
    "    elif (p==\"J\" and q==\"R\")or (q==\"J\" and p==\"R\"):\n",
    "        algebra_out.write(\"\\commutator{J}{R_{\\\\alpha}} -> -1/2 \\Gamma_{0 \\\\alpha}^{\\\\beta} R_{\\\\beta} ,\\n\"\n",
    "                    \"\\commutator{R_{\\\\alpha}}{J}-> -\\commutator{J}{R_{\\\\alpha}} ,\\n\")            \n",
    "    elif (p==\"G\" and q==\"Q\")or (q==\"G\" and p==\"Q\"):\n",
    "            algebra_out.write(\"\\commutator{G_{a}}{Q_{\\\\alpha}} -> -1/2 \\Gamma_{a \\\\alpha}^{\\\\beta} W_{\\\\beta} ,\\n\"\n",
    "                    \"\\commutator{Q_{\\\\alpha}}{G_{a}}-> -\\commutator{G_{a}}{Q_{\\\\alpha}}  ,\\n\")\n",
    "    elif (p==\"G\" and q==\"W\")or (q==\"G\" and p==\"W\"):\n",
    "        algebra_out.write(\"\\commutator{G_{a}}{W_{\\\\alpha}} -> -1/2 \\Gamma_{a \\\\alpha}^{\\\\beta} R_{\\\\beta} ,\\n\"\n",
    "                    \"\\commutator{W_{\\\\alpha}}{G_{a}}-> -\\commutator{G_{a}}{W_{\\\\alpha}}  ,\\n\")\n",
    "    elif (p==\"S\" and q==\"Q\")or (q==\"S\" and p==\"Q\"):\n",
    "        algebra_out.write(\"\\commutator{S}{Q_{\\\\alpha}} -> -1/2 \\Gamma_{0 \\\\alpha}^{\\\\beta} R_{\\\\beta} ,\\n\"\n",
    "                    \"\\commutator{Q_{\\\\alpha}}{S}-> -\\commutator{S}{Q_{\\\\alpha}} ,\\n\")\n",
    "    elif (p==\"F\" and q==\"J\")or (q==\"J\" and p==\"F\"):\n",
    "        algebra_out.write(\"\\commutator{J}{F_{\\\\alpha}} -> -1/2 \\Gamma_{0 \\\\alpha}^{\\\\beta} F_{\\\\beta} ,\\n\"\n",
    "                    \"\\commutator{F_{\\\\alpha}}{J}-> -\\commutator{J}{F_{\\\\alpha}} ,\\n\")\n",
    "    elif (p==\"J\" and q==\"E\")or (q==\"J\" and p==\"E\"):\n",
    "        algebra_out.write(\"\\commutator{J}{E_{\\\\alpha}} -> -1/2 \\Gamma_{0 \\\\alpha}^{\\\\beta} E_{\\\\beta} ,\\n\"\n",
    "                    \"\\commutator{E_{\\\\alpha}}{J}-> -\\commutator{J}{E_{\\\\alpha}} ,\\n\")\n",
    "    elif (p==\"P\" and q==\"F\")or (q==\"P\" and p==\"F\"):\n",
    "        algebra_out.write(\"\\commutator{P_{a}}{F_{\\\\alpha}} -> -1/2 \\epsilon_{a b} \\Gamma_{b \\\\alpha}^{\\\\beta} W_{\\\\beta} ,\\n\"\n",
    "                    \"\\commutator{F_{\\\\alpha}}{P_{a}}-> -\\commutator{P_{a}}{F_{\\\\alpha}} ,\\n\")\n",
    "    elif (p==\"P\" and q==\"W\")or (q==\"P\" and p==\"W\"):\n",
    "        algebra_out.write(\"\\commutator{P_{a}}{W_{\\\\alpha}} -> -1/2 \\epsilon_{a b} \\Gamma_{b \\\\alpha}^{\\\\beta} E_{\\\\beta} ,\\n\"\n",
    "                    \"\\commutator{W_{\\\\alpha}}{P_{a}}-> -\\commutator{P_{a}}{W_{\\\\alpha}} ,\\n\")\n",
    "    elif (p==\"U\" and q==\"Q\")or (q==\"U\" and p==\"Q\"):\n",
    "        algebra_out.write(\"\\commutator{U}{Q_{\\\\alpha}} ->  \\Gamma_{0 \\\\alpha}^{\\\\beta} Q_{\\\\beta} ,\\n\"\n",
    "                    \"\\commutator{Q_{\\\\alpha}}{U}-> -\\commutator{U}{Q_{\\\\alpha}} ,\\n\")\n",
    "    elif (p==\"U\" and q==\"W\")or (q==\"U\" and p==\"W\"):\n",
    "        algebra_out.write(\"\\commutator{U}{W_{\\\\alpha}} -> -  \\Gamma_{0 \\\\alpha}^{\\\\beta} W_{\\\\beta} ,\\n\"\n",
    "                    \"\\commutator{W_{\\\\alpha}}{U}-> -\\commutator{U}{W_{\\\\alpha}} ,\\n\")   \n",
    "    elif (p==\"U\" and q==\"R\")or (q==\"U\" and p==\"R\"):\n",
    "        algebra_out.write(\"\\commutator{U}{R_{\\\\alpha}} ->  \\Gamma_{0 \\\\alpha}^{\\\\beta} R_{\\\\beta} ,\\n\"\n",
    "                    \"\\commutator{R_{\\\\alpha}}{U}-> -\\commutator{U}{R_{\\\\alpha}} ,\\n\")\n",
    "    elif (p==\"U\" and q==\"F\")or (q==\"U\" and p==\"F\"):\n",
    "        algebra_out.write(\"\\commutator{U}{F_{\\\\alpha}} ->  \\Gamma_{0 \\\\alpha}^{\\\\beta} F_{\\\\beta} ,\\n\"\n",
    "                    \"\\commutator{F_{\\\\alpha}}{U}-> -\\commutator{U}{F_{\\\\alpha}} ,\\n\")\n",
    "    elif (p==\"U\" and q==\"E\")or (q==\"U\" and p==\"E\"):\n",
    "        algebra_out.write(\"\\commutator{U}{E_{\\\\alpha}} ->  \\Gamma_{0 \\\\alpha}^{\\\\beta} E_{\\\\beta} ,\\n\"\n",
    "                    \"\\commutator{E_{\\\\alpha}}{U}-> -\\commutator{U}{E_{\\\\alpha}} ,\\n\")\n",
    "    elif (p==\"V\" and q==\"Q\")or (q==\"V\" and p==\"Q\"):\n",
    "        algebra_out.write(\"\\commutator{V}{Q_{\\\\alpha}} ->  - 3/4 E_{\\\\alpha} ,\\n\"\n",
    "                    \"\\commutator{Q_{\\\\alpha}}{V}-> -\\commutator{V}{Q_{\\\\alpha}} ,\\n\")    \n",
    "    elif (p==\"V\" and q==\"F\")or (q==\"V\" and p==\"F\"):\n",
    "        algebra_out.write(\"\\commutator{V}{F_{\\\\alpha}} ->   3/4 R_{\\\\alpha} ,\\n\"\n",
    "                    \"\\commutator{F_{\\\\alpha}}{V}-> -\\commutator{V}{F_{\\\\alpha}} ,\\n\")\n",
    "    elif (p==\"H\" and q==\"F\")or (q==\"H\" and p==\"F\"):\n",
    "        algebra_out.write(\"\\commutator{H}{F_{\\\\alpha}} ->   - Q_{\\\\alpha} ,\\n\"\n",
    "                    \"\\commutator{F_{\\\\alpha}}{H}-> -\\commutator{H}{F_{\\\\alpha}} ,\\n\")\n",
    "    elif (p==\"H\" and q==\"R\")or (q==\"H\" and p==\"R\"):\n",
    "        algebra_out.write(\"\\commutator{H}{R_{\\\\alpha}} ->      E_{\\\\alpha} ,\\n\"\n",
    "                    \"\\commutator{R_{\\\\alpha}}{H}-> -\\commutator{H}{R_{\\\\alpha}} ,\\n\")\n",
    "    elif (p==\"D\" and q==\"Q\")or (q==\"D\" and p==\"Q\"):\n",
    "        algebra_out.write(\"\\commutator{D}{Q_{\\\\alpha}} ->     - Q_{\\\\alpha} ,\\n\"\n",
    "                    \"\\commutator{Q_{\\\\alpha}}{D}-> -\\commutator{D}{Q_{\\\\alpha}} ,\\n\")\n",
    "    elif (p==\"D\" and q==\"F\")or (q==\"D\" and p==\"F\"):\n",
    "        algebra_out.write(\"\\commutator{D}{F_{\\\\alpha}} ->      F_{\\\\alpha} ,\\n\"\n",
    "                    \"\\commutator{F_{\\\\alpha}}{D}-> -\\commutator{D}{F_{\\\\alpha}} ,\\n\")\n",
    "    elif (p==\"D\" and q==\"E\")or (q==\"D\" and p==\"E\"):\n",
    "        algebra_out.write(\"\\commutator{D}{E_{\\\\alpha}} ->     - E_{\\\\alpha} ,\\n\"\n",
    "                    \"\\commutator{E_{\\\\alpha}}{D}-> -\\commutator{D}{E_{\\\\alpha}} ,\\n\")\n",
    "    elif (p==\"D\" and q==\"R\")or (q==\"D\" and p==\"R\"):\n",
    "        algebra_out.write(\"\\commutator{D}{R_{\\\\alpha}} ->      R_{\\\\alpha} ,\\n\"\n",
    "                    \"\\commutator{R_{\\\\alpha}}{D}-> -\\commutator{D}{R_{\\\\alpha}} ,\\n\")\n",
    "    elif (p==\"K\" and q==\"Q\")or (q==\"K\" and p==\"Q\"):\n",
    "        algebra_out.write(\"\\commutator{K}{Q_{\\\\alpha}} ->      F_{\\\\alpha} ,\\n\"\n",
    "                    \"\\commutator{Q_{\\\\alpha}}{K}-> -\\commutator{K}{Q_{\\\\alpha}} ,\\n\")\n",
    "    elif (p==\"K\" and q==\"E\")or (q==\"K\" and p==\"E\"):\n",
    "        algebra_out.write(\"\\commutator{K}{E_{\\\\alpha}} ->     - R_{\\\\alpha} ,\\n\"\n",
    "                    \"\\commutator{E_{\\\\alpha}}{K}-> -\\commutator{K}{E_{\\\\alpha}} ,\\n\")\n",
    "    elif (p==\"M\" and q==\"Q\")or (q==\"M\" and p==\"Q\"):\n",
    "        algebra_out.write(\"\\commutator{M}{Q_{\\\\alpha}} ->     1/4 E_{\\\\alpha} ,\\n\"\n",
    "                    \"\\commutator{Q_{\\\\alpha}}{M}-> -\\commutator{M}{Q_{\\\\alpha}} ,\\n\")\n",
    "    elif (p==\"M\" and q==\"F\")or (q==\"M\" and p==\"F\"):\n",
    "        algebra_out.write(\"\\commutator{M}{F_{\\\\alpha}} ->     -1/4 R_{\\\\alpha} ,\\n\"\n",
    "                    \"\\commutator{F_{\\\\alpha}}{M}-> -\\commutator{M}{F_{\\\\alpha}} ,\\n\")\n",
    "    elif (p==\"Y\" and q==\"Q\")or (q==\"Y\" and p==\"Q\"):\n",
    "        algebra_out.write(\"\\commutator{Y}{Q_{\\\\alpha}} ->     1/4 \\Gamma_{0 \\\\alpha}^{\\\\beta} E_{\\\\beta} ,\\n\"\n",
    "                    \"\\commutator{Q_{\\\\alpha}}{Y}-> -\\commutator{Y}{Q_{\\\\alpha}} ,\\n\")\n",
    "    elif (p==\"Y\" and q==\"F\")or (q==\"Y\" and p==\"F\"):\n",
    "        algebra_out.write(\"\\commutator{Y}{F_{\\\\alpha}} ->     1/4 \\Gamma_{0 \\\\alpha}^{\\\\beta} R_{\\\\beta} ,\\n\"\n",
    "                    \"\\commutator{F_{\\\\alpha}}{Y}-> -\\commutator{Y}{F_{\\\\alpha}} ,\\n\")\n",
    "    elif (p==\"Z\" and q==\"F\")or (q==\"Z\" and p==\"F\"):\n",
    "        algebra_out.write(\"\\commutator{Z}{F_{\\\\alpha}} ->     -1/2 \\Gamma_{0 \\\\alpha}^{\\\\beta} E_{\\\\beta} ,\\n\"\n",
    "                    \"\\commutator{F_{\\\\alpha}}{Z}-> -\\commutator{Z}{F_{\\\\alpha}} ,\\n\")\n",
    "    \n",
    "    ## {F,F} part     \n",
    "            \n",
    "    elif (p==\"Q\" and q==\"Q\")or (q==\"Q\" and p==\"Q\"):\n",
    "        algebra_out.write(\"\\commutator{Q_{\\\\alpha}}{Q_{\\\\beta}} ->  \\Gamma_{0 \\\\alpha \\\\beta} H ,\\n\")\n",
    "    elif (p==\"Q\" and q==\"W\")or (q==\"Q\" and p==\"W\"):\n",
    "        algebra_out.write(\"\\commutator{Q_{\\\\alpha}}{W_{\\\\beta}} ->  - \\Gamma_{a \\\\alpha \\\\beta} P_{a} ,\\n\"\n",
    "                   \"\\commutator{W_{\\\\beta}}{Q_{\\\\alpha}}-> \\commutator{Q_{\\\\alpha}}{W_{\\\\beta}} ,\\n\")\n",
    "    elif (p==\"W\" and q==\"W\")or (q==\"W\" and p==\"W\"):\n",
    "        algebra_out.write(\"\\commutator{W_{\\\\alpha}}{W_{\\\\beta}} ->  \\Gamma_{0 \\\\alpha \\\\beta} M - \\Gamma_{0 \\\\alpha \\\\beta} V ,\\n\") \n",
    "    elif (p==\"Q\" and q==\"R\")or (q==\"Q\" and p==\"R\"):\n",
    "        algebra_out.write(\"\\commutator{Q_{\\\\alpha}}{R_{\\\\beta}} ->  \\Gamma_{0 \\\\alpha \\\\beta} M  + 2 C_{\\\\alpha \\\\beta} Y + \\Gamma_{0 \\\\alpha \\\\beta} V ,\\n\"\n",
    "                    \"\\commutator{R_{\\\\beta}}{Q_{\\\\alpha}}-> \\commutator{Q_{\\\\alpha}}{R_{\\\\beta}} ,\\n\")\n",
    "    elif (p==\"Q\" and q==\"E\")or (q==\"Q\" and p==\"E\"):\n",
    "        algebra_out.write(\"\\commutator{Q_{\\\\alpha}}{E_{\\\\beta}} ->  - 2 C_{\\\\alpha \\\\beta} Z ,\\n\"\n",
    "                    \"\\commutator{E_{\\\\beta}}{Q_{\\\\alpha}}-> \\commutator{Q_{\\\\alpha}}{E_{\\\\beta}} ,\\n\")\n",
    "    elif (p==\"F\" and q==\"F\")or (q==\"F\" and p==\"F\"):\n",
    "        algebra_out.write(\"\\commutator{F_{\\\\alpha}}{F_{\\\\beta}} ->  \\Gamma_{0 \\\\alpha \\\\beta} K ,\\n\")\n",
    "    elif (p==\"Q\" and q==\"F\")or (q==\"Q\" and p==\"F\"):\n",
    "        algebra_out.write(\"\\commutator{F_{\\\\alpha}}{Q_{\\\\beta}} -> -1/2 \\Gamma_{0 \\\\alpha \\\\beta} D  + 1/2 C_{\\\\alpha \\\\beta} J + 3/4 C_{\\\\alpha \\\\beta} U ,\\n\"\n",
    "                    \"\\commutator{Q_{\\\\beta}}{F_{\\\\alpha}}-> \\commutator{F_{\\\\alpha}}{Q_{\\\\beta}} ,\\n\")\n",
    "    elif (p==\"W\" and q==\"F\")or (q==\"W\" and p==\"F\"):\n",
    "        algebra_out.write(\"\\commutator{F_{\\\\alpha}}{W_{\\\\beta}} ->  \\epsilon_{a b} \\Gamma_{a \\\\alpha \\\\beta} G_{b} ,\\n\"\n",
    "                   \"\\commutator{W_{\\\\beta}}{F_{\\\\alpha}}-> \\commutator{F_{\\\\alpha}}{W_{\\\\beta}} ,\\n\")\n",
    "    elif (p==\"R\" and q==\"F\")or (q==\"R\" and p==\"F\"):\n",
    "        algebra_out.write(\"\\commutator{F_{\\\\alpha}}{R_{\\\\beta}} ->   2 C_{\\\\alpha \\\\beta} S ,\\n\"\n",
    "                    \"\\commutator{R_{\\\\beta}}{F_{\\\\alpha}}-> \\commutator{F_{\\\\alpha}}{R_{\\\\beta}} ,\\n\")\n",
    "    elif (p==\"F\" and q==\"E\")or (q==\"F\" and p==\"E\"):\n",
    "        algebra_out.write(\"\\commutator{F_{\\\\alpha}}{E_{\\\\beta}} ->  \\Gamma_{0 \\\\alpha \\\\beta} M  -2 C_{\\\\alpha \\\\beta} Y +  \\Gamma_{0 \\\\alpha \\\\beta}  V ,\\n\"\n",
    "                    \"\\commutator{E_{\\\\beta}}{F_{\\\\alpha}}-> \\commutator{F_{\\\\alpha}}{E_{\\\\beta}} ,\\n\")\n",
    "    #zero\n",
    "    else:\n",
    "        k,l=0,0\n",
    "        if p in B:\n",
    "            p=p+b\n",
    "            k+=1 \n",
    "        elif p in A:\n",
    "            p=p+a\n",
    "            l+=1   \n",
    "        if q in B:\n",
    "            q=q+b\n",
    "            k+=1 \n",
    "        elif q in A:\n",
    "            q=q+a\n",
    "            l+=1   \n",
    "    \n",
    "    \n",
    "\n",
    "\n",
    "algebra_out.write(\"};\")"
   ]
  },
  {
   "cell_type": "code",
   "execution_count": 4,
   "metadata": {
    "vscode": {
     "languageId": "python"
    }
   },
   "outputs": [
    {
     "name": "stdout",
     "output_type": "stream",
     "text": [
      "1\n",
      "2\n",
      "3\n",
      "4\n",
      "5\n",
      "6\n",
      "7\n",
      "8\n",
      "9\n",
      "10\n"
     ]
    }
   ],
   "source": [
    "k=0\n",
    "for i in range(10):\n",
    "    k+=1\n",
    "    print(k)"
   ]
  },
  {
   "cell_type": "code",
   "execution_count": 20,
   "metadata": {
    "vscode": {
     "languageId": "python"
    }
   },
   "outputs": [
    {
     "name": "stdout",
     "output_type": "stream",
     "text": [
      "3\n",
      "4\n",
      "6\n",
      "7\n"
     ]
    }
   ],
   "source": [
    "i=0\n",
    "for i in range(10):\n",
    "    i+=1\n",
    "    if (i==3 or i==4) or (i==6 or i==7):\n",
    "        print(i)"
   ]
  },
  {
   "cell_type": "code",
   "execution_count": 13,
   "metadata": {
    "vscode": {
     "languageId": "python"
    }
   },
   "outputs": [
    {
     "name": "stdout",
     "output_type": "stream",
     "text": [
      "('F', 'R')\n"
     ]
    }
   ],
   "source": [
    "p,q=\"F\",\"R\"\n",
    "test=p,q\n",
    "print(test)"
   ]
  },
  {
   "cell_type": "code",
   "execution_count": 14,
   "metadata": {
    "vscode": {
     "languageId": "python"
    }
   },
   "outputs": [
    {
     "name": "stdout",
     "output_type": "stream",
     "text": [
      "('Q', 'Q')\n",
      "('Q', 'W')\n",
      "('Q', 'F')\n",
      "('Q', 'E')\n",
      "('Q', 'R')\n",
      "('W', 'W')\n",
      "('W', 'F')\n",
      "('W', 'E')\n",
      "('W', 'R')\n",
      "('F', 'F')\n",
      "('F', 'E')\n",
      "('F', 'R')\n",
      "rf\n",
      "('E', 'E')\n",
      "('E', 'R')\n",
      "('R', 'R')\n"
     ]
    }
   ],
   "source": [
    "for i in combinations_with_replacement(A,2):\n",
    "    print(i)\n",
    "    if i==test:\n",
    "        print(\"rf\")"
   ]
  },
  {
   "cell_type": "code",
   "execution_count": null,
   "metadata": {
    "vscode": {
     "languageId": "python"
    }
   },
   "outputs": [],
   "source": []
  },
  {
   "cell_type": "code",
   "execution_count": null,
   "metadata": {
    "vscode": {
     "languageId": "python"
    }
   },
   "outputs": [],
   "source": []
  }
 ],
 "metadata": {
  "kernelspec": {
   "display_name": "Cadabra2",
   "language": "python",
   "name": "cadabra2"
  },
  "language_info": {
   "codemirror_mode": "cadabra",
   "file_extension": ".ipynb",
   "mimetype": "text/cadabra",
   "name": "cadabra2",
   "pygments_lexer": "cadabra"
  },
  "orig_nbformat": 4,
  "vscode": {
   "interpreter": {
    "hash": "916dbcbb3f70747c44a77c7bcd40155683ae19c65e1c03b4aa3499c5328201f1"
   }
  }
 },
 "nbformat": 4,
 "nbformat_minor": 2
}
