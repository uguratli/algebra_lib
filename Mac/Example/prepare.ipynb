{
 "cells": [
  {
   "cell_type": "code",
   "execution_count": 10,
   "metadata": {
    "vscode": {
     "languageId": "python"
    }
   },
   "outputs": [],
   "source": [
    "with open(\"/home/cadabra/Desktop/Example/prealgebra.txt\",\"r\") as pre_alg:\n",
    "    alg_str=pre_alg.readlines()"
   ]
  },
  {
   "cell_type": "code",
   "execution_count": 11,
   "metadata": {
    "vscode": {
     "languageId": "python"
    }
   },
   "outputs": [],
   "source": [
    "import re"
   ]
  },
  {
   "cell_type": "code",
   "execution_count": 6,
   "metadata": {
    "vscode": {
     "languageId": "python"
    }
   },
   "outputs": [],
   "source": [
    "alg=open(\"/home/cadabra/Desktop/Example/prealgebra.txt\",\"r\")"
   ]
  },
  {
   "cell_type": "code",
   "execution_count": 7,
   "metadata": {
    "vscode": {
     "languageId": "python"
    }
   },
   "outputs": [],
   "source": [
    "alg.read()"
   ]
  },
  {
   "cell_type": "code",
   "execution_count": 12,
   "metadata": {
    "vscode": {
     "languageId": "python"
    }
   },
   "outputs": [
    {
     "name": "stdout",
     "output_type": "stream",
     "text": [
      "\\left[B_a, M_{b c}\\right]=\\delta_{a b} B_c-\\delta_{a c} B_b,\n",
      "\n"
     ]
    }
   ],
   "source": [
    "print(alg_str[30])"
   ]
  },
  {
   "cell_type": "code",
   "execution_count": 13,
   "metadata": {
    "vscode": {
     "languageId": "python"
    }
   },
   "outputs": [],
   "source": [
    "op_set=[]\n",
    "op_set0=[]\n",
    "op_set1=[]\n",
    "op_set2=[]\n",
    "indice_1=[]\n",
    "indice_2=[]\n",
    "commutation=[]\n",
    "alg=[]\n",
    "indices=[]\n",
    "cadabra_alg=open(\"test_algebra.txt\",\"w\")\n",
    "cadabra_alg.write(\"{\")\n",
    "for eqn in alg_str:\n",
    "    eqn=eqn.replace(\"M_\",\"J_\").replace(\"K_\",\"L_\").replace(\"D_{+}\",\"D\").replace(\"D_{-}\",\"E\") \n",
    "    #Pretend double counting, and making easy.\n",
    "    #print(eqn)\n",
    "    Lhs,Rhs=eqn.split(\"=\")\n",
    "    Rhs=Rhs.replace(\"\\n\",\"\").replace(\"\\r\",\"\")\n",
    "    Lhs=Lhs.replace(\"\\left[\",\"[\").replace(\"\\\\right]\",\"]\")\n",
    "    p,q=re.search(\"\\[(.*)\\]\",Lhs).group(1).split(\",\")\n",
    "    q = q[:0] + q[1:]\n",
    "    if len(p)>1:\n",
    "        indice=re.search(\"_(.*)\",p).group(1).replace(\"{\",\"\").replace(\"}\",\"\")\n",
    "        if len(indice)==1:\n",
    "            if indice not in indice_1:\n",
    "                indice_1.append(indice)\n",
    "            if p[0] not in op_set1:\n",
    "                op_set1.append(p[0])\n",
    "        elif len(indice)==3:\n",
    "            if indice not in indice_2:\n",
    "                indice_2.append(indice)\n",
    "            if p[0] not in op_set2:\n",
    "                op_set2.append(p[0])\n",
    "    else:\n",
    "        if p[0] not in op_set0:\n",
    "            op_set0.append(p[0])\n",
    "    if len(q)>1:\n",
    "        indice=re.search(\"_(.*)\",q).group(1).replace(\"{\",\"\").replace(\"}\",\"\")\n",
    "        if len(indice)==1:\n",
    "            if indice not in indice_1:\n",
    "                indice_1.append(indice)\n",
    "            if q[0] not in op_set1:\n",
    "                op_set1.append(q[0])\n",
    "        elif len(indice)==3:\n",
    "            if indice not in indice_2:\n",
    "                indice_2.append(indice)\n",
    "            if q[0] not in op_set2:\n",
    "                op_set2.append(q[0])\n",
    "    else:\n",
    "        if q[0] not in op_set0:\n",
    "            op_set0.append(q[0])\n",
    "    if p[0] not in op_set:\n",
    "        op_set.append(p[0])\n",
    "    if q[0] not in op_set:\n",
    "        op_set.append(q[0])\n",
    "    comm=p[0],q[0]\n",
    "    commutation.append(comm)\n",
    "    cadabra_alg.write(\"\\commutator{%s}{%s}->%s\"\"\\commutator{%s}{%s}->-\\commutator{%s}{%s},\" %(p,q,Rhs,q,p,p,q))\n",
    "    #alg.append(\"\\commutator{%s}{%s}->%s\"\"\\commutator{%s}{%s}->-\\commutator{%s}{%s},\" %(p,q,Rhs,q,p,p,q))\n",
    "#cadabra_alg.writelines(alg)\n"
   ]
  },
  {
   "cell_type": "code",
   "execution_count": 14,
   "metadata": {
    "vscode": {
     "languageId": "python"
    }
   },
   "outputs": [
    {
     "name": "stdout",
     "output_type": "stream",
     "text": [
      "['K', 'S', 'H', 'M', 'D', 'E'] ['P', 'L', 'B', 'T'] ['J'] ['a', 'b'] ['b c', 'a b', 'c d']\n"
     ]
    }
   ],
   "source": [
    "print(op_set0, op_set1,op_set2,indice_1,indice_2)"
   ]
  },
  {
   "cell_type": "code",
   "execution_count": 15,
   "metadata": {
    "vscode": {
     "languageId": "python"
    }
   },
   "outputs": [
    {
     "name": "stdout",
     "output_type": "stream",
     "text": [
      "['P', 'L', 'K', 'S', 'H', 'M', 'B', 'T', 'D', 'E', 'J']\n"
     ]
    }
   ],
   "source": [
    "print(op_set)"
   ]
  },
  {
   "cell_type": "code",
   "execution_count": 16,
   "metadata": {
    "vscode": {
     "languageId": "python"
    }
   },
   "outputs": [
    {
     "name": "stdout",
     "output_type": "stream",
     "text": [
      "[('P', 'L'), ('P', 'K'), ('P', 'S'), ('H', 'S'), ('M', 'K'), ('H', 'L'), ('B', 'T'), ('M', 'L'), ('P', 'B'), ('P', 'T'), ('H', 'T'), ('M', 'B'), ('D', 'H'), ('E', 'M'), ('E', 'K'), ('D', 'S'), ('E', 'P'), ('D', 'P'), ('E', 'L'), ('D', 'L'), ('L', 'B'), ('L', 'T'), ('K', 'T'), ('S', 'B'), ('E', 'B'), ('D', 'B'), ('E', 'T'), ('D', 'T'), ('P', 'J'), ('L', 'J'), ('B', 'J'), ('T', 'J'), ('J', 'J')]\n"
     ]
    }
   ],
   "source": [
    "print(commutation)"
   ]
  },
  {
   "cell_type": "code",
   "execution_count": 11,
   "metadata": {
    "vscode": {
     "languageId": "python"
    }
   },
   "outputs": [
    {
     "name": "stdout",
     "output_type": "stream",
     "text": [
      "[]\n"
     ]
    }
   ],
   "source": [
    "print(indices)"
   ]
  },
  {
   "cell_type": "code",
   "execution_count": 221,
   "metadata": {
    "vscode": {
     "languageId": "python"
    }
   },
   "outputs": [
    {
     "name": "stdout",
     "output_type": "stream",
     "text": [
      "[\n"
     ]
    }
   ],
   "source": [
    "print(Lhs[0])"
   ]
  },
  {
   "cell_type": "code",
   "execution_count": 17,
   "metadata": {
    "vscode": {
     "languageId": "python"
    }
   },
   "outputs": [],
   "source": [
    "from itertools import combinations_with_replacement"
   ]
  },
  {
   "cell_type": "code",
   "execution_count": 18,
   "metadata": {
    "vscode": {
     "languageId": "python"
    }
   },
   "outputs": [
    {
     "name": "stdout",
     "output_type": "stream",
     "text": [
      "['b c', 'a b', 'c d']\n",
      "3\n"
     ]
    }
   ],
   "source": [
    "print(indice_2)\n",
    "print(len(indice_2))"
   ]
  },
  {
   "cell_type": "code",
   "execution_count": 19,
   "metadata": {
    "vscode": {
     "languageId": "python"
    }
   },
   "outputs": [
    {
     "name": "stdout",
     "output_type": "stream",
     "text": [
      "['a', 'b']\n",
      "['b c', 'a b', 'c d']\n",
      "['a b', 'c d', 'b c']\n"
     ]
    }
   ],
   "source": [
    "print(indice_1)\n",
    "print(indice_2)\n",
    "indice_2[0],indice_2[1],indice_2[2]=indice_2[1],indice_2[2],indice_2[0]\n",
    "print(indice_2)"
   ]
  },
  {
   "cell_type": "code",
   "execution_count": 20,
   "metadata": {
    "vscode": {
     "languageId": "python"
    }
   },
   "outputs": [
    {
     "name": "stdout",
     "output_type": "stream",
     "text": [
      "['a b', 'c d', 'e f']\n"
     ]
    }
   ],
   "source": [
    "indice_2[2]=\"e f\"\n",
    "print(indice_2)"
   ]
  },
  {
   "cell_type": "code",
   "execution_count": 21,
   "metadata": {
    "vscode": {
     "languageId": "python"
    }
   },
   "outputs": [],
   "source": [
    "cadabra_alg=open(\"test_algebra.txt\",\"a\")\n",
    "for p,q in combinations_with_replacement(op_set,2):\n",
    "    i,j=0,0\n",
    "    if (p,q) in commutation or (q,p) in commutation:\n",
    "        continue\n",
    "    else:\n",
    "        if p in op_set2:\n",
    "            p=p+\"_{\"+indice_2[i]+\"}\"\n",
    "            i+=1\n",
    "        elif p in op_set1:\n",
    "            p=p+\"_\"+indice_1[j]\n",
    "            j+=1\n",
    "        if q in op_set2:\n",
    "            q=q+\"_{\"+indice_2[i]+\"}\"\n",
    "            i+=1\n",
    "        elif q in op_set1:\n",
    "            q=q+\"_\"+indice_1[j]\n",
    "            j+=1\n",
    "        cadabra_alg.write(\"\\commutator{%s}{%s}-> 0,\"\n",
    "                        \"\\commutator{%s}{%s}->-\\commutator{%s}{%s},\" %(p,q,q,p,p,q))\n",
    "cadabra_alg.write(\"}\")"
   ]
  },
  {
   "cell_type": "code",
   "execution_count": 264,
   "metadata": {
    "vscode": {
     "languageId": "python"
    }
   },
   "outputs": [],
   "source": [
    "indice_D=[\"+\",\"-\"]\n",
    "indice_1=[\"a\",\"b\",\"c\",\"d\",\"e\"]\n",
    "indice_2=[\"ab\",\"bc\",\"cd\",\"ad\"]"
   ]
  },
  {
   "cell_type": "code",
   "execution_count": null,
   "metadata": {
    "vscode": {
     "languageId": "python"
    }
   },
   "outputs": [],
   "source": []
  },
  {
   "cell_type": "code",
   "execution_count": null,
   "metadata": {
    "vscode": {
     "languageId": "python"
    }
   },
   "outputs": [],
   "source": []
  },
  {
   "cell_type": "code",
   "execution_count": 151,
   "metadata": {
    "vscode": {
     "languageId": "python"
    }
   },
   "outputs": [
    {
     "name": "stdout",
     "output_type": "stream",
     "text": [
      "['\\\\commutator{P_a}{K_b}->-D_{+} \\\\delta_{a b}-D_{-} \\\\delta_{a b}+2 M_{a b},\\\\commutator{K_b}{P_a}->-\\\\commutator{P_a}{K_b},', '\\\\commutator{P_a}{K}->2 B_a,\\\\commutator{K}{P_a}->-\\\\commutator{P_a}{K},', '\\\\commutator{P_a}{S}->2 T_a,\\\\commutator{S}{P_a}->-\\\\commutator{P_a}{S},', '\\\\commutator{H}{S}->2 D_{+},\\\\commutator{S}{H}->-\\\\commutator{H}{S},', '\\\\commutator{M}{K}->2 D_{-},\\\\commutator{K}{M}->-\\\\commutator{M}{K},', '\\\\commutator{H}{K_a}->-2 B_a},\\\\commutator{K_a}{H}->-\\\\commutator{H}{K_a},', '\\\\commutator{B_a}{T_b}->\\\\frac{1}{2} D_{-} \\\\delta_{a b}-\\\\frac{1}{2} D_{+} \\\\delta_{a b}+M_{a b},\\\\commutator{T_b}{B_a}->-\\\\commutator{B_a}{T_b},', '\\\\commutator{M}{K_a}->-2 T_a,\\\\commutator{K_a}{M}->-\\\\commutator{M}{K_a},', '\\\\commutator{P_a}{B_b}->\\\\delta_{a b} H,\\\\commutator{B_b}{P_a}->-\\\\commutator{P_a}{B_b},', '\\\\commutator{P_a}{T_b}->\\\\delta_{a b} M,\\\\commutator{T_b}{P_a}->-\\\\commutator{P_a}{T_b},', '\\\\commutator{H}{T_a}->P_a,\\\\commutator{T_a}{H}->-\\\\commutator{H}{T_a},', '\\\\commutator{M}{B_a}->P_a,\\\\commutator{B_a}{M}->-\\\\commutator{M}{B_a},', '\\\\commutator{D_{+}}{H}->-2 H,\\\\commutator{H}{D_{+}}->-\\\\commutator{D_{+}}{H},', '\\\\commutator{D_{-}}{M}->-2 M,\\\\commutator{M}{D_{-}}->-\\\\commutator{D_{-}}{M},', '\\\\commutator{D_{-}}{K}->2 K,\\\\commutator{K}{D_{-}}->-\\\\commutator{D_{-}}{K},', '\\\\commutator{D_{+}}{S}->2 S,\\\\commutator{S}{D_{+}}->-\\\\commutator{D_{+}}{S},', '\\\\commutator{D_{-}}{P_a}->-P_a,\\\\commutator{P_a}{D_{-}}->-\\\\commutator{D_{-}}{P_a},', '\\\\commutator{D_{+}}{P_a}->-P_a,\\\\commutator{P_a}{D_{+}}->-\\\\commutator{D_{+}}{P_a},', '\\\\commutator{D_{-}}{K_a}->K_a,\\\\commutator{K_a}{D_{-}}->-\\\\commutator{D_{-}}{K_a},', '\\\\commutator{D_{+}}{K_a}->K_a, \\\\commutator{K_a}{D_{+}}->-\\\\commutator{D_{+}}{K_a},', '\\\\commutator{K_a}{B_b}->\\\\delta_{a b} K,\\\\commutator{B_b}{K_a}->-\\\\commutator{K_a}{B_b},', '\\\\commutator{K_a}{T_b}->\\\\delta_{a b} S,\\\\commutator{T_b}{K_a}->-\\\\commutator{K_a}{T_b},', '\\\\commutator{K}{T_a}->K_a,\\\\commutator{T_a}{K}->-\\\\commutator{K}{T_a},', '\\\\commutator{S}{B_a}->K_a,\\\\commutator{B_a}{S}->-\\\\commutator{S}{B_a},', '\\\\commutator{D_{-}}{B_a}->B_a, \\\\commutator{B_a}{D_{-}}->-\\\\commutator{D_{-}}{B_a},', '\\\\commutator{D_{+}}{B_a}->-B_a,\\\\commutator{B_a}{D_{+}}->-\\\\commutator{D_{+}}{B_a},', '\\\\commutator{D_{-}}{T_a}->-T_a,\\\\commutator{T_a}{D_{-}}->-\\\\commutator{D_{-}}{T_a},', '\\\\commutator{D_{+}}{T_a}->T_a\\\\commutator{T_a}{D_{+}}->-\\\\commutator{D_{+}}{T_a},']\n"
     ]
    }
   ],
   "source": [
    "print(alg)"
   ]
  },
  {
   "cell_type": "code",
   "execution_count": 22,
   "metadata": {
    "vscode": {
     "languageId": "python"
    }
   },
   "outputs": [
    {
     "name": "stdout",
     "output_type": "stream",
     "text": [
      "['P', 'L', 'K', 'S', 'H', 'M', 'B', 'T', 'D', 'E', 'J']\n"
     ]
    }
   ],
   "source": [
    "print(op_set)"
   ]
  },
  {
   "cell_type": "code",
   "execution_count": 97,
   "metadata": {
    "vscode": {
     "languageId": "python"
    }
   },
   "outputs": [
    {
     "name": "stdout",
     "output_type": "stream",
     "text": [
      "[('P_a', 'K_b'), ('P_a', 'K'), ('P_a', 'S'), ('H', 'S'), ('M', 'K'), ('H', 'K_a'), ('B_a', 'T_b'), ('M', 'K_a'), ('P_a', 'B_b'), ('P_a', 'T_b'), ('H', 'T_a'), ('M', 'B_a'), ('D_{+}', 'H'), ('D_{-}', 'M'), ('D_{-}', 'K'), ('D_{+}', 'S'), ('D_{-}', 'P_a'), ('D_{+}', 'P_a'), ('D_{-}', 'K_a'), ('D_{+}', 'K_a'), ('K_a', 'B_b'), ('K_a', 'T_b'), ('K', 'T_a'), ('S', 'B_a'), ('D_{-}', 'B_a'), ('D_{+}', 'B_a'), ('D_{-}', 'T_a'), ('D_{+}', 'T_a')]\n"
     ]
    }
   ],
   "source": [
    "print(commutation)"
   ]
  },
  {
   "cell_type": "code",
   "execution_count": 222,
   "metadata": {
    "vscode": {
     "languageId": "python"
    }
   },
   "outputs": [
    {
     "name": "stdout",
     "output_type": "stream",
     "text": [
      "('H', 'K_a')\n"
     ]
    }
   ],
   "source": [
    "test_s=commutation[5]\n",
    "print(test_s)"
   ]
  },
  {
   "cell_type": "code",
   "execution_count": 157,
   "metadata": {
    "vscode": {
     "languageId": "python"
    }
   },
   "outputs": [
    {
     "name": "stdout",
     "output_type": "stream",
     "text": [
      "K_a\n"
     ]
    }
   ],
   "source": [
    "j,k=commutation[5]\n"
   ]
  },
  {
   "cell_type": "code",
   "execution_count": 159,
   "metadata": {
    "vscode": {
     "languageId": "python"
    }
   },
   "outputs": [
    {
     "name": "stdout",
     "output_type": "stream",
     "text": [
      "3\n"
     ]
    }
   ],
   "source": [
    "print(len(k))"
   ]
  },
  {
   "cell_type": "code",
   "execution_count": 184,
   "metadata": {
    "vscode": {
     "languageId": "python"
    }
   },
   "outputs": [
    {
     "name": "stdout",
     "output_type": "stream",
     "text": [
      "6\n"
     ]
    }
   ],
   "source": [
    "print(len(q))"
   ]
  },
  {
   "cell_type": "code",
   "execution_count": 296,
   "metadata": {
    "vscode": {
     "languageId": "python"
    }
   },
   "outputs": [
    {
     "name": "stdout",
     "output_type": "stream",
     "text": [
      "('J_{a b}', 'J_{c d}')\n"
     ]
    }
   ],
   "source": [
    "print(comm)"
   ]
  },
  {
   "cell_type": "code",
   "execution_count": 185,
   "metadata": {
    "vscode": {
     "languageId": "python"
    }
   },
   "outputs": [
    {
     "name": "stdout",
     "output_type": "stream",
     "text": [
      "M_{bc}\n"
     ]
    }
   ],
   "source": [
    "print(q)"
   ]
  },
  {
   "cell_type": "code",
   "execution_count": 189,
   "metadata": {
    "vscode": {
     "languageId": "python"
    }
   },
   "outputs": [
    {
     "name": "stdout",
     "output_type": "stream",
     "text": [
      "bc\n",
      "2\n"
     ]
    }
   ],
   "source": [
    "h=q\n",
    "if len(h)>=1:\n",
    "   h=h.replace(\"{\",\"\").replace(\"}\",\"\")\n",
    "   indice=re.search(\"_(.*)\",h).group(1)\n",
    "print(indice)\n",
    "print(len(indice))"
   ]
  },
  {
   "cell_type": "code",
   "execution_count": 83,
   "metadata": {
    "vscode": {
     "languageId": "python"
    }
   },
   "outputs": [
    {
     "name": "stdout",
     "output_type": "stream",
     "text": [
      "29\n"
     ]
    }
   ],
   "source": [
    "print(len(alg_str))"
   ]
  },
  {
   "cell_type": "code",
   "execution_count": 113,
   "metadata": {
    "vscode": {
     "languageId": "python"
    }
   },
   "outputs": [],
   "source": [
    "R,L=alg_str[0].split(\"=\")"
   ]
  },
  {
   "cell_type": "code",
   "execution_count": 114,
   "metadata": {
    "vscode": {
     "languageId": "python"
    }
   },
   "outputs": [
    {
     "name": "stdout",
     "output_type": "stream",
     "text": [
      "-D_{+} \\delta_{a b}-D_{-} \\delta_{a b}+2 M_{a b},\n",
      "\n"
     ]
    }
   ],
   "source": [
    "print(L)"
   ]
  },
  {
   "cell_type": "code",
   "execution_count": 77,
   "metadata": {
    "vscode": {
     "languageId": "python"
    }
   },
   "outputs": [],
   "source": [
    "p,q=\"P\",\"H\""
   ]
  },
  {
   "cell_type": "code",
   "execution_count": 79,
   "metadata": {
    "vscode": {
     "languageId": "python"
    }
   },
   "outputs": [
    {
     "name": "stdout",
     "output_type": "stream",
     "text": [
      "(P,H)\n"
     ]
    }
   ],
   "source": [
    "test=\"(\" +p +\",\" +q +\")\"\n",
    "print(test)"
   ]
  },
  {
   "cell_type": "code",
   "execution_count": 75,
   "metadata": {
    "vscode": {
     "languageId": "python"
    }
   },
   "outputs": [
    {
     "name": "stderr",
     "output_type": "stream",
     "text": [
      "Traceback (most recent call last):\n",
      "  File \"/usr/lib/python3.8/dist-packages/cadabra2_jupyter/kernel.py\", line 54, in do_execute\n",
      "    self._execute_python(pycode)\n",
      "  File \"/usr/lib/python3.8/dist-packages/cadabra2_jupyter/kernel.py\", line 108, in _execute_python\n",
      "    self._sandbox_context(pycode)\n",
      "  File \"/usr/lib/python3.8/dist-packages/cadabra2_jupyter/context.py\", line 51, in __call__\n",
      "    exec(code, self._sandbox)\n",
      "  File \"<string>\", line 3\n",
      "    comm.append(\"(\"+q+\",\"+p\")\")\n",
      "                           ^\n",
      "SyntaxError: invalid syntax\n"
     ]
    }
   ],
   "source": [
    "p,q=P,H\n",
    "comm=[]\n",
    "comm.append(\"(\"q\",\"+p\")\")"
   ]
  },
  {
   "cell_type": "code",
   "execution_count": 226,
   "metadata": {
    "vscode": {
     "languageId": "python"
    }
   },
   "outputs": [
    {
     "name": "stdout",
     "output_type": "stream",
     "text": [
      "\\left[B_a, T_b\\right]=\\frac{1}{2} D_{-} \\delta_{a b}-\\frac{1}{2} D_{+} \\delta_{a b}+M_{a b},\n",
      "\n"
     ]
    }
   ],
   "source": [
    "test=alg_str[6]\n",
    "print(test)"
   ]
  },
  {
   "cell_type": "code",
   "execution_count": 271,
   "metadata": {
    "vscode": {
     "languageId": "python"
    }
   },
   "outputs": [],
   "source": [
    "test_n=test.replace(\"\\left[\",\"[\").replace(\"\\\\right]\",\"]\")"
   ]
  },
  {
   "cell_type": "code",
   "execution_count": 272,
   "metadata": {
    "vscode": {
     "languageId": "python"
    }
   },
   "outputs": [
    {
     "name": "stdout",
     "output_type": "stream",
     "text": [
      "[B_a, T_b]=\\frac{1}{2} D_{-} \\delta_{a b}-\\frac{1}{2} D_{+} \\delta_{a b}+M_{a b},\n",
      "\n"
     ]
    }
   ],
   "source": [
    "print(test_n)"
   ]
  },
  {
   "cell_type": "code",
   "execution_count": 179,
   "metadata": {
    "vscode": {
     "languageId": "python"
    }
   },
   "outputs": [
    {
     "name": "stdout",
     "output_type": "stream",
     "text": [
      "[\n"
     ]
    }
   ],
   "source": [
    "print(Lhs[0])"
   ]
  },
  {
   "cell_type": "code",
   "execution_count": 229,
   "metadata": {
    "vscode": {
     "languageId": "python"
    }
   },
   "outputs": [
    {
     "name": "stdout",
     "output_type": "stream",
     "text": [
      "[B_a, T_b]=\\frac{1}{2} D_{-} \\delta_{a b}-\\frac{1}{2} D_{+} \\delta_{a b}+M_{a b},\n",
      "\n"
     ]
    }
   ],
   "source": [
    "test_y=test_n.replace(\"\\\\right]\",\"]\")\n",
    "print(test_y)"
   ]
  },
  {
   "cell_type": "code",
   "execution_count": 176,
   "metadata": {
    "vscode": {
     "languageId": "python"
    }
   },
   "outputs": [
    {
     "name": "stdout",
     "output_type": "stream",
     "text": [
      "[B_a, M_{b c}]=\\delta_{a b} B_c-\\delta_{a c} B_b,\n",
      "\n"
     ]
    }
   ],
   "source": [
    "print(test_y)"
   ]
  },
  {
   "cell_type": "code",
   "execution_count": 230,
   "metadata": {
    "vscode": {
     "languageId": "python"
    }
   },
   "outputs": [
    {
     "name": "stdout",
     "output_type": "stream",
     "text": [
      "[B_a, T_b]\n"
     ]
    }
   ],
   "source": [
    "Lhs,Rhs =test_y.split(\"=\")\n",
    "#print(Rhs)\n",
    "print(Lhs)"
   ]
  },
  {
   "cell_type": "code",
   "execution_count": 278,
   "metadata": {
    "vscode": {
     "languageId": "python"
    }
   },
   "outputs": [
    {
     "name": "stdout",
     "output_type": "stream",
     "text": [
      "['J_{a b}', ' J_{c d}']\n"
     ]
    }
   ],
   "source": [
    "result=re.search(\"\\[(.*)\\]\",Lhs).group(1).split(\",\")\n",
    "print(result)"
   ]
  },
  {
   "cell_type": "code",
   "execution_count": 232,
   "metadata": {
    "vscode": {
     "languageId": "python"
    }
   },
   "outputs": [
    {
     "name": "stdout",
     "output_type": "stream",
     "text": [
      "[\n"
     ]
    }
   ],
   "source": [
    "print(test_y[0])"
   ]
  },
  {
   "cell_type": "code",
   "execution_count": 280,
   "metadata": {
    "vscode": {
     "languageId": "python"
    }
   },
   "outputs": [
    {
     "name": "stdout",
     "output_type": "stream",
     "text": [
      "3\n",
      " T_b\n"
     ]
    }
   ],
   "source": [
    "p,q=re.search(\"\\[(.*)\\]\",test_y).group(1).split(\",\")\n",
    "print(len(p))\n",
    "print(q)\n"
   ]
  },
  {
   "cell_type": "code",
   "execution_count": 281,
   "metadata": {
    "vscode": {
     "languageId": "python"
    }
   },
   "outputs": [
    {
     "name": "stdout",
     "output_type": "stream",
     "text": [
      "T_b\n",
      "3\n"
     ]
    }
   ],
   "source": [
    "q = q[:0] + q[1:]\n",
    "print(q)\n",
    "print(len(q))"
   ]
  },
  {
   "cell_type": "code",
   "execution_count": 235,
   "metadata": {
    "vscode": {
     "languageId": "python"
    }
   },
   "outputs": [
    {
     "name": "stdout",
     "output_type": "stream",
     "text": [
      "B\n"
     ]
    }
   ],
   "source": [
    "print(p[0])"
   ]
  },
  {
   "cell_type": "code",
   "execution_count": 71,
   "metadata": {
    "vscode": {
     "languageId": "python"
    }
   },
   "outputs": [
    {
     "name": "stdout",
     "output_type": "stream",
     "text": [
      "['P_a', 'S']\n"
     ]
    }
   ],
   "source": [
    "print(result[])"
   ]
  },
  {
   "cell_type": "code",
   "execution_count": 50,
   "metadata": {
    "vscode": {
     "languageId": "python"
    }
   },
   "outputs": [
    {
     "name": "stdout",
     "output_type": "stream",
     "text": [
      "2\n"
     ]
    }
   ],
   "source": [
    "print(len(result))"
   ]
  },
  {
   "cell_type": "code",
   "execution_count": 53,
   "metadata": {
    "vscode": {
     "languageId": "python"
    }
   },
   "outputs": [],
   "source": [
    "test_set=[\"P\",\"A\",\"B\",\"C\",\"D\",\"E\"]\n",
    "test_arr=[\"A\",\"B\",\"F\",\"G\",\"H\"]"
   ]
  },
  {
   "cell_type": "code",
   "execution_count": 54,
   "metadata": {
    "vscode": {
     "languageId": "python"
    }
   },
   "outputs": [
    {
     "name": "stdout",
     "output_type": "stream",
     "text": [
      "['P', 'A', 'B', 'C', 'D', 'E', 'F', 'G', 'H']\n"
     ]
    }
   ],
   "source": [
    "for index in test_arr:\n",
    "    if index not in test_set:\n",
    "        test_set.append(index)\n",
    "print(test_set)"
   ]
  },
  {
   "cell_type": "code",
   "execution_count": null,
   "metadata": {
    "vscode": {
     "languageId": "python"
    }
   },
   "outputs": [],
   "source": []
  },
  {
   "cell_type": "code",
   "execution_count": null,
   "metadata": {
    "vscode": {
     "languageId": "python"
    }
   },
   "outputs": [],
   "source": [
    "for i in alg_str:\n",
    "    print(i)"
   ]
  },
  {
   "cell_type": "code",
   "execution_count": 20,
   "metadata": {
    "vscode": {
     "languageId": "python"
    }
   },
   "outputs": [
    {
     "name": "stdout",
     "output_type": "stream",
     "text": [
      "['\\\\left[P_a, K_b\\\\right]=-D_{+} \\\\delta_{a b}-D_{-} \\\\delta_{a b}+2 M_{a b},\\n', '\\\\left[P_a, K\\\\right]=2 B_a,\\n', '\\\\left[P_a, S\\\\right]=2 T_a,\\n', ' [H, S]=2 D_{+},\\n', ' [M, K]=2 D_{-},\\n', ' \\\\left[H, K_a\\\\right]=-2 B_a},\\n', '\\\\left[B_a, T_b\\\\right]=\\\\frac{1}{2} D_{-} \\\\delta_{a b}-\\\\frac{1}{2} D_{+} \\\\delta_{a b}+M_{a b},\\n', '\\\\left[M, K_a\\\\right]=-2 T_a,\\n', '\\\\left[P_a, B_b\\\\right]=\\\\delta_{a b} H,\\n', '\\\\left[P_a, T_b\\\\right]=\\\\delta_{a b} M,\\n', '\\\\left[H, T_a\\\\right]=P_a,\\n', '\\\\left[M, B_a\\\\right]=P_a,\\n', '\\\\left[D_{+}, H\\\\right]=-2 H,\\n', '\\\\left[D_{-}, M\\\\right]=-2 M,\\n', '\\\\left[D_{-}, K\\\\right]=2 K,\\n', '\\\\left[D_{+}, S\\\\right]=2 S,\\n', '\\\\left[D_{-}, P_a\\\\right]=-P_a,\\n', '\\\\left[D_{+}, P_a\\\\right]=-P_a,\\n', '\\\\left[D_{-}, K_a\\\\right]=K_a,\\n', '\\\\left[D_{+}, K_a\\\\right]=K_a, \\n', '\\\\left[K_a, B_b\\\\right]=\\\\delta_{a b} K,\\n', '\\\\left[K_a, T_b\\\\right]=\\\\delta_{a b} S,\\n', '\\\\left[K, T_a\\\\right]=K_a,\\n', '\\\\left[S, B_a\\\\right]=K_a,\\n', '\\\\left[D_{-}, B_a\\\\right]=B_a, \\n', '\\\\left[D_{+}, B_a\\\\right]=-B_a,\\n', '\\\\left[D_{-}, T_a\\\\right]=-T_a,\\n', '\\\\left[D_{+}, T_a\\\\right]=T_a\\n', '\\n']\n"
     ]
    }
   ],
   "source": [
    "print(alg_str)"
   ]
  },
  {
   "cell_type": "code",
   "execution_count": null,
   "metadata": {
    "vscode": {
     "languageId": "python"
    }
   },
   "outputs": [],
   "source": [
    "######Jacobi"
   ]
  },
  {
   "cell_type": "code",
   "execution_count": 20,
   "metadata": {
    "vscode": {
     "languageId": "python"
    }
   },
   "outputs": [
    {
     "name": "stdout",
     "output_type": "stream",
     "text": [
      "['a', 'b', 'c']\n"
     ]
    }
   ],
   "source": [
    "indice_1.append(\"c\")\n",
    "print(indice_1)"
   ]
  },
  {
   "cell_type": "code",
   "execution_count": 23,
   "metadata": {
    "vscode": {
     "languageId": "python"
    }
   },
   "outputs": [],
   "source": [
    "def sign_func(x,y):\n",
    "    s=(-1)**(x*y)\n",
    "    if s>0:\n",
    "        return \"+\"\n",
    "    elif s<0:\n",
    "        return \"-\"\n",
    "    else:\n",
    "        return None"
   ]
  },
  {
   "cell_type": "code",
   "execution_count": 8,
   "metadata": {
    "vscode": {
     "languageId": "python"
    }
   },
   "outputs": [
    {
     "name": "stdout",
     "output_type": "stream",
     "text": [
      "+\n"
     ]
    }
   ],
   "source": [
    "print(sign_func(3,0))"
   ]
  },
  {
   "cell_type": "code",
   "execution_count": 26,
   "metadata": {
    "vscode": {
     "languageId": "python"
    }
   },
   "outputs": [],
   "source": [
    "indice_1.append(\"c\")\n",
    "indice_2[0],indice_2[1],indice_2[2]=indice_2[1],indice_2[2],indice_2[0]"
   ]
  },
  {
   "cell_type": "code",
   "execution_count": 27,
   "metadata": {
    "vscode": {
     "languageId": "python"
    }
   },
   "outputs": [
    {
     "name": "stdout",
     "output_type": "stream",
     "text": [
      "['a', 'b', 'c'] ['c d', 'e f', 'a b']\n"
     ]
    }
   ],
   "source": [
    "print(indice_1,indice_2)"
   ]
  },
  {
   "cell_type": "code",
   "execution_count": 24,
   "metadata": {
    "vscode": {
     "languageId": "python"
    }
   },
   "outputs": [
    {
     "name": "stdout",
     "output_type": "stream",
     "text": [
      "['K', 'S', 'H', 'M', 'D', 'E'] ['P', 'L', 'B', 'T'] ['J']\n"
     ]
    }
   ],
   "source": [
    "print(op_set0,op_set1,op_set2)\n",
    "g_set0=0\n",
    "g_set1=0\n",
    "g_set2=0\n"
   ]
  },
  {
   "cell_type": "code",
   "execution_count": null,
   "metadata": {
    "vscode": {
     "languageId": "python"
    }
   },
   "outputs": [],
   "source": [
    "for m,n,o in combinations_with_replacement(op_set,3):\n",
    "    i,j,k=0,0,0\n",
    "    g_set0=0\n",
    "    g_set1=0\n",
    "    g_set2=0\n",
    "      "
   ]
  },
  {
   "cell_type": "code",
   "execution_count": null,
   "metadata": {
    "vscode": {
     "languageId": "python"
    }
   },
   "outputs": [],
   "source": []
  }
 ],
 "metadata": {
  "kernelspec": {
   "display_name": "Cadabra2",
   "language": "python",
   "name": "cadabra2"
  },
  "language_info": {
   "codemirror_mode": "cadabra",
   "file_extension": ".ipynb",
   "mimetype": "text/cadabra",
   "name": "cadabra2",
   "pygments_lexer": "cadabra"
  },
  "orig_nbformat": 4
 },
 "nbformat": 4,
 "nbformat_minor": 2
}
