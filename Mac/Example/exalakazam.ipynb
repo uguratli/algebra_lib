{
 "cells": [
  {
   "cell_type": "code",
   "execution_count": 2,
   "metadata": {},
   "outputs": [],
   "source": [
    "from itertools import combinations_with_replacement"
   ]
  },
  {
   "cell_type": "code",
   "execution_count": 3,
   "metadata": {},
   "outputs": [],
   "source": [
    "C=[\"D\",\"H\",\"K\",\"J\",\"Y\",\"D\",\"Z\",\"K\",\"U\",\"V\"]\n",
    "B=[\"G\",\"P\"]\n",
    "A=[\"Q\",\"W\",\"F\",\"E\",\"R\"]\n",
    "c=[\"_{d e}\",\"_{f g}\",\"_{h j}\"]\n",
    "b=[\"_{a}\",\"_{b}\",\"_{c}\"]\n",
    "a=[\"_{\\\\alpha}\",\"_{\\\\beta}\",\"_{\\\\gamma}\"]\n",
    "O=C+B+A"
   ]
  },
  {
   "cell_type": "code",
   "execution_count": 5,
   "metadata": {},
   "outputs": [
    {
     "name": "stdout",
     "output_type": "stream",
     "text": [
      "hello\n"
     ]
    }
   ],
   "source": [
    "print(\"hello\")"
   ]
  },
  {
   "cell_type": "code",
   "execution_count": 7,
   "metadata": {},
   "outputs": [],
   "source": [
    "algebra_out=open(\"Supersch.txt\",\"w\")\n",
    "algebra_out.write(\"{\")\n",
    "for p,q in combinations_with_replacement(O,2):\n",
    "    #[B,B] part\n",
    "    if (p==\"J\" and q==\"Q\")or (q==\"J\" and p==\"Q\"):\n",
    "        algebra_out.write(\"\\commutator{J}{P_{a}} -> -\\epsilon_{a b} P_{b},\"\n",
    "                            \"\\commutator{P_{a}}{J}-> -\\commutator{J}{P_{a}},\")\n",
    "    elif (p==\"J\" and q==\"G\")or (q==\"J\" and p==\"G\"):\n",
    "        algebra_out.write(\"\\commutator{J}{G_{a}} -> -\\epsilon_{a b} G_{b},\"\n",
    "                            \"\\commutator{G_{a}}{J}-> -\\commutator{J}{G_{a}},\")\n",
    "    elif (p==\"G\" and q==\"P\")or (q==\"G\" and p==\"P\"):\n",
    "        algebra_out.write(\"\\commutator{G_{a}}{P_{b}} -> \\epsilon_{a b} M - \\delta_{a b} Y,\"\n",
    "                            \"\\commutator{P_{b}}{G_{a}}->-\\commutator{G_{a}}{P_{b}},\")\n",
    "    elif (p==\"H\" and q==\"G\")or (q==\"H\" and p==\"G\"):\n",
    "        algebra_out.write(\"\\commutator{H}{G_{a}} -> -\\epsilon_{a b} P_{b},\"\n",
    "                            \"\\commutator{G_{a}}{H}-> -\\commutator{H}{G_{a}},\")\n",
    "    elif (p==\"G\" and q==\"G\")or (q==\"G\" and p==\"G\"):\n",
    "        algebra_out.write(\"\\commutator{G_{a}}{G_{b}} -> \\epsilon_{a b} S,\")\n",
    "    elif (p==\"P\" and q==\"P\")or (q==\"P\" and p==\"P\"):\n",
    "        algebra_out.write(\"\\commutator{P_{a}}{P_{b}} -> \\epsilon_{a b} Z,\")\n",
    "    elif (p==\"D\" and q==\"G\")or (q==\"D\" and p==\"G\"):\n",
    "        algebra_out.write(\"\\commutator{D}{G_{a}} -> G_{a},\"\n",
    "                            \"\\commutator{G_{a}}{D}-> -\\commutator{D}{G_{a}},\")\n",
    "    elif (p==\"D\" and q==\"P\")or (q==\"D\" and p==\"P\"):\n",
    "        algebra_out.write(\"\\commutator{D}{P_{a}} -> -P_{a},\"\n",
    "                            \"\\commutator{P_{a}}{D}-> -\\commutator{D}{P_{a}},\")\n",
    "    elif (p==\"D\" and q==\"H\")or (q==\"D\" and p==\"H\"):\n",
    "        algebra_out.write(\"\\commutator{D}{H} -> -2 H,\"\n",
    "                            \"\\commutator{H}{D}-> -\\commutator{D}{H},\")\n",
    "    elif (p==\"D\" and q==\"S\")or (q==\"D\" and p==\"S\"):\n",
    "        algebra_out.write(\"\\commutator{D}{S} -> 2 S,\"\n",
    "                            \"\\commutator{S}{D}-> -\\commutator{D}{S},\")\n",
    "    elif (p==\"D\" and q==\"K\")or (q==\"D\" and p==\"K\"):\n",
    "        algebra_out.write(\"\\commutator{D}{K} -> 2 K,\"\n",
    "                            \"\\commutator{K}{D}-> -\\commutator{D}{K},\")\n",
    "    elif (p==\"D\" and q==\"Z\")or (q==\"D\" and p==\"Z\"):\n",
    "        algebra_out.write(\"\\commutator{D}{Z} -> -2 Z,\"\n",
    "                            \"\\commutator{Z}{D}-> -\\commutator{D}{Z},\")\n",
    "    elif (p==\"K\" and q==\"P\")or (q==\"K\" and p==\"P\"):\n",
    "        algebra_out.write(\"\\commutator{K}{P_{a}} -> -\\epsilon_{a b} G_{b},\"\n",
    "                            \"\\commutator{P_{a}}{K}-> -\\commutator{K}{P_{a}},\") \n",
    "    elif (p==\"H\" and q==\"K\")or (q==\"H\" and p==\"K\"):\n",
    "        algebra_out.write(\"\\commutator{K}{H} -> - D,\"\n",
    "                            \"\\commutator{H}{K}-> -\\commutator{K}{H},\")\n",
    "    elif (p==\"Y\" and q==\"K\")or (q==\"Y\" and p==\"K\"):\n",
    "        algebra_out.write(\"\\commutator{K}{Y} -> S,\"\n",
    "                            \"\\commutator{Y}{K}-> -\\commutator{K}{Y},\")\n",
    "    elif (p==\"Z\" and q==\"K\")or (q==\"Z\" and p==\"K\"):\n",
    "        algebra_out.write(\"\\commutator{K}{Z} -> 2 Y,\"\n",
    "                            \"\\commutator{Z}{K}-> -\\commutator{K}{Z},\")  \n",
    "    elif (p==\"H\" and q==\"S\")or (q==\"H\" and p==\"S\"):\n",
    "        algebra_out.write(\"\\commutator{H}{S} -> - 2 Y,\"\n",
    "                            \"\\commutator{S}{H}-> -\\commutator{H}{S},\")\n",
    "    elif (p==\"H\" and q==\"Y\")or (q==\"H\" and p==\"Y\"):\n",
    "        algebra_out.write(\"\\commutator{H}{Y} -> - Z,\"\n",
    "                            \"\\commutator{Y}{H}-> -\\commutator{H}{Y}\") \n",
    "algebra_out.write(\"};\")"
   ]
  },
  {
   "cell_type": "code",
   "execution_count": null,
   "metadata": {},
   "outputs": [],
   "source": []
  }
 ],
 "metadata": {
  "kernelspec": {
   "display_name": "Cadabra2",
   "language": "python",
   "name": "cadabra2"
  },
  "orig_nbformat": 4
 },
 "nbformat": 4,
 "nbformat_minor": 2
}
